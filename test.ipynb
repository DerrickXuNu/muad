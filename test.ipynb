{
 "cells": [
  {
   "cell_type": "code",
   "execution_count": 1,
   "metadata": {},
   "outputs": [],
   "source": [
    "import os\n",
    "os.environ['CUDA_VISIBLE_DEVICES'] = \"1\"\n",
    "import numpy as np\n",
    "import pandas as pd\n",
    "import torch\n",
    "import torch.optim.lr_scheduler as lr_scheduler\n",
    "\n",
    "from pyod.utils.utility import precision_n_scores\n",
    "from sklearn.metrics import roc_auc_score, average_precision_score\n",
    "from tensorboardX import SummaryWriter\n",
    "from torch.utils.data import DataLoader\n",
    "\n",
    "import utils.helper as helper\n",
    "from utils.losses import VaeLoss\n",
    "from models.lmf import LMF\n",
    "from utils.muad_dataset import MuadDataset\n",
    "from utils.parser import train_parser\n",
    "\n",
    "import warnings\n",
    "warnings.filterwarnings('ignore')"
   ]
  },
  {
   "cell_type": "markdown",
   "metadata": {},
   "source": [
    "### Load Training dataset to get threshold"
   ]
  },
  {
   "cell_type": "code",
   "execution_count": 2,
   "metadata": {},
   "outputs": [],
   "source": [
    "dataset = MuadDataset(\"data/CrisisMMD_v2.0/CrisisMMD_v2.0\",\n",
    "                          \"data/CrisisMMD_v2.0/train_cleaned.xlsx\")\n",
    "torch.multiprocessing.set_start_method('spawn')\n",
    "dataloader = DataLoader(dataset, batch_size=1, shuffle=True, num_workers=0)"
   ]
  },
  {
   "cell_type": "markdown",
   "metadata": {},
   "source": [
    "### Setup model"
   ]
  },
  {
   "cell_type": "code",
   "execution_count": 3,
   "metadata": {},
   "outputs": [],
   "source": [
    "model = LMF(rank=16, latent_dim=32)\n",
    "model.cuda()\n",
    "\n",
    "loss_func = VaeLoss()\n",
    "optimizer = torch.optim.Adam(params=model.parameters(), lr=1e-3, weight_decay=0.01)\n",
    "scheduler = lr_scheduler.ExponentialLR(optimizer, gamma=0.999)"
   ]
  },
  {
   "cell_type": "markdown",
   "metadata": {},
   "source": [
    "### load model from folder"
   ]
  },
  {
   "cell_type": "code",
   "execution_count": 4,
   "metadata": {},
   "outputs": [
    {
     "name": "stdout",
     "output_type": "stream",
     "text": [
      "resuming by loading epoch 396\n"
     ]
    }
   ],
   "source": [
    "saved_path = 'logs/LMF_2021_01_11_16_06_20'\n",
    "init_epoch, model = helper.load_saved_model(saved_path, model)"
   ]
  },
  {
   "cell_type": "code",
   "execution_count": 20,
   "metadata": {},
   "outputs": [],
   "source": [
    "loss_list = []\n",
    "label_list = []"
   ]
  },
  {
   "cell_type": "markdown",
   "metadata": {},
   "source": [
    "### Get all losses"
   ]
  },
  {
   "cell_type": "code",
   "execution_count": null,
   "metadata": {},
   "outputs": [
    {
     "name": "stdout",
     "output_type": "stream",
     "text": [
      "0\n",
      "1\n",
      "2\n",
      "3\n",
      "4\n",
      "5\n",
      "6\n",
      "7\n",
      "8\n",
      "9\n",
      "10\n",
      "11\n",
      "12\n",
      "13\n",
      "14\n",
      "15\n",
      "16\n",
      "17\n",
      "18\n",
      "19\n",
      "20\n",
      "21\n",
      "22\n",
      "23\n",
      "24\n",
      "25\n",
      "26\n",
      "27\n",
      "28\n",
      "29\n",
      "30\n",
      "31\n",
      "32\n",
      "33\n",
      "34\n",
      "35\n",
      "36\n",
      "37\n",
      "38\n",
      "39\n",
      "40\n",
      "41\n",
      "42\n",
      "43\n",
      "44\n",
      "45\n",
      "46\n",
      "47\n",
      "48\n",
      "49\n",
      "50\n",
      "51\n",
      "52\n",
      "53\n",
      "54\n",
      "55\n",
      "56\n",
      "57\n",
      "58\n",
      "59\n",
      "60\n",
      "61\n",
      "62\n",
      "63\n",
      "64\n",
      "65\n",
      "66\n",
      "67\n",
      "68\n",
      "69\n",
      "70\n",
      "71\n",
      "72\n",
      "73\n",
      "74\n",
      "75\n",
      "76\n",
      "77\n",
      "78\n",
      "79\n",
      "80\n",
      "81\n",
      "82\n",
      "83\n",
      "84\n",
      "85\n",
      "86\n",
      "87\n",
      "88\n",
      "89\n",
      "90\n",
      "91\n",
      "92\n",
      "93\n",
      "94\n",
      "95\n",
      "96\n",
      "97\n",
      "98\n",
      "99\n",
      "100\n",
      "101\n",
      "102\n",
      "103\n",
      "104\n",
      "105\n",
      "106\n",
      "107\n",
      "108\n",
      "109\n",
      "110\n",
      "111\n",
      "112\n",
      "113\n",
      "114\n",
      "115\n",
      "116\n",
      "117\n",
      "118\n",
      "119\n",
      "120\n",
      "121\n"
     ]
    }
   ],
   "source": [
    "model.eval()\n",
    "for i, sample_batched in enumerate(dataloader):\n",
    "    print(i)\n",
    "    image_features, text_features, label = sample_batched['image_features'], sample_batched['text_features'], \\\n",
    "                                                   sample_batched['label']\n",
    "    image_features = image_features.cuda()\n",
    "    text_features = text_features.cuda()\n",
    "    label = label.cuda()\n",
    "    \n",
    "    output = model(image_features, text_features)\n",
    "    loss = loss_func(output)\n",
    "    \n",
    "    loss_list.append(loss['total_loss'].cpu().detach().numpy())\n",
    "    label_list.append(label.cpu().detach().numpy())"
   ]
  },
  {
   "cell_type": "markdown",
   "metadata": {},
   "source": [
    "### Find thresholding"
   ]
  },
  {
   "cell_type": "code",
   "execution_count": 7,
   "metadata": {},
   "outputs": [],
   "source": [
    "labels = np.array(label_list)\n",
    "losses = np.array(loss_list)\n",
    "error_df = pd.DataFrame(data = {'error':losses,'true':np.squeeze(labels, 1)})"
   ]
  },
  {
   "cell_type": "code",
   "execution_count": 8,
   "metadata": {},
   "outputs": [
    {
     "data": {
      "text/html": [
       "<div>\n",
       "<style scoped>\n",
       "    .dataframe tbody tr th:only-of-type {\n",
       "        vertical-align: middle;\n",
       "    }\n",
       "\n",
       "    .dataframe tbody tr th {\n",
       "        vertical-align: top;\n",
       "    }\n",
       "\n",
       "    .dataframe thead th {\n",
       "        text-align: right;\n",
       "    }\n",
       "</style>\n",
       "<table border=\"1\" class=\"dataframe\">\n",
       "  <thead>\n",
       "    <tr style=\"text-align: right;\">\n",
       "      <th></th>\n",
       "      <th>true</th>\n",
       "      <th>count</th>\n",
       "      <th>mean</th>\n",
       "      <th>std</th>\n",
       "      <th>min</th>\n",
       "      <th>25%</th>\n",
       "      <th>50%</th>\n",
       "      <th>75%</th>\n",
       "      <th>max</th>\n",
       "    </tr>\n",
       "  </thead>\n",
       "  <tbody>\n",
       "    <tr>\n",
       "      <th>0</th>\n",
       "      <td>0</td>\n",
       "      <td>5514.0</td>\n",
       "      <td>554.035400</td>\n",
       "      <td>141.962936</td>\n",
       "      <td>175.923309</td>\n",
       "      <td>461.311562</td>\n",
       "      <td>550.487946</td>\n",
       "      <td>643.187195</td>\n",
       "      <td>1174.256714</td>\n",
       "    </tr>\n",
       "    <tr>\n",
       "      <th>1</th>\n",
       "      <td>1</td>\n",
       "      <td>612.0</td>\n",
       "      <td>567.998962</td>\n",
       "      <td>117.852051</td>\n",
       "      <td>289.573242</td>\n",
       "      <td>485.853104</td>\n",
       "      <td>563.846130</td>\n",
       "      <td>639.087250</td>\n",
       "      <td>1013.422729</td>\n",
       "    </tr>\n",
       "  </tbody>\n",
       "</table>\n",
       "</div>"
      ],
      "text/plain": [
       "   true   count        mean         std         min         25%         50%  \\\n",
       "0     0  5514.0  554.035400  141.962936  175.923309  461.311562  550.487946   \n",
       "1     1   612.0  567.998962  117.852051  289.573242  485.853104  563.846130   \n",
       "\n",
       "          75%          max  \n",
       "0  643.187195  1174.256714  \n",
       "1  639.087250  1013.422729  "
      ]
     },
     "execution_count": 8,
     "metadata": {},
     "output_type": "execute_result"
    }
   ],
   "source": [
    "error_df.groupby('true')['error'].describe().reset_index()"
   ]
  },
  {
   "cell_type": "code",
   "execution_count": 16,
   "metadata": {},
   "outputs": [],
   "source": [
    "temp_df = error_df[error_df['true'] == 0]\n",
    "threshold = error_df['error'].mean() + temp_df['error'].std()"
   ]
  },
  {
   "cell_type": "code",
   "execution_count": 17,
   "metadata": {},
   "outputs": [
    {
     "name": "stdout",
     "output_type": "stream",
     "text": [
      "LMF ROC:0.4683, ap:0.08048, precision @ rank n:0.0\n"
     ]
    }
   ],
   "source": [
    "y_pred = np.array([1 if e > threshold else 0 for e in error_df.error.values])\n",
    "y = error_df.true.values\n",
    "print('{clf_name} ROC:{roc}, ap:{ap}, precision @ rank n:{prn}'.format(\n",
    "        clf_name='LMF',\n",
    "        roc=np.round(roc_auc_score(y, y_pred), decimals=4),\n",
    "        prn=np.round(precision_n_scores(y, y_pred), decimals=5),\n",
    "        ap=np.round(average_precision_score(y, y_pred), decimals=5)))"
   ]
  },
  {
   "cell_type": "markdown",
   "metadata": {},
   "source": [
    "### Load testdataset"
   ]
  },
  {
   "cell_type": "code",
   "execution_count": 11,
   "metadata": {},
   "outputs": [],
   "source": [
    "dataset = MuadDataset(\"data/CrisisMMD_v2.0/CrisisMMD_v2.0\",\n",
    "                          \"data/CrisisMMD_v2.0/test_cleaned.xlsx\")\n",
    "dataloader = DataLoader(dataset, batch_size=1, shuffle=True, num_workers=0)"
   ]
  },
  {
   "cell_type": "code",
   "execution_count": 12,
   "metadata": {},
   "outputs": [],
   "source": [
    "loss_list = []\n",
    "label_list = []"
   ]
  },
  {
   "cell_type": "code",
   "execution_count": 13,
   "metadata": {},
   "outputs": [],
   "source": [
    "for i, sample_batched in enumerate(dataloader):\n",
    "    image_features, text_features, label = sample_batched['image_features'], sample_batched['text_features'], \\\n",
    "                                                   sample_batched['label']\n",
    "    image_features = image_features.cuda()\n",
    "    text_features = text_features.cuda()\n",
    "    label = label.cuda()\n",
    "    \n",
    "    output = model(image_features, text_features)\n",
    "    loss = loss_func(output)\n",
    "    \n",
    "    loss_list.append(loss['reconstruction_loss'].cpu().detach().numpy())\n",
    "    label_list.append(label.cpu().detach().numpy())"
   ]
  },
  {
   "cell_type": "code",
   "execution_count": 14,
   "metadata": {},
   "outputs": [],
   "source": [
    "labels = np.array(label_list)\n",
    "losses = np.array(loss_list)\n",
    "error_df = pd.DataFrame(data = {'error':losses,'true':np.squeeze(labels, 1)})"
   ]
  },
  {
   "cell_type": "markdown",
   "metadata": {},
   "source": [
    "### Evaluate method"
   ]
  },
  {
   "cell_type": "code",
   "execution_count": 15,
   "metadata": {},
   "outputs": [
    {
     "name": "stdout",
     "output_type": "stream",
     "text": [
      "LMF ROC:0.4669, ap:0.08149, precision @ rank n:0.0\n"
     ]
    }
   ],
   "source": [
    "y_pred = np.array([1 if e > threshold else 0 for e in error_df.error.values])\n",
    "y = error_df.true.values\n",
    "print('{clf_name} ROC:{roc}, ap:{ap}, precision @ rank n:{prn}'.format(\n",
    "        clf_name='LMF',\n",
    "        roc=np.round(roc_auc_score(y, y_pred), decimals=4),\n",
    "        prn=np.round(precision_n_scores(y, y_pred), decimals=5),\n",
    "        ap=np.round(average_precision_score(y, y_pred), decimals=5)))"
   ]
  },
  {
   "cell_type": "code",
   "execution_count": null,
   "metadata": {},
   "outputs": [],
   "source": []
  }
 ],
 "metadata": {
  "kernelspec": {
   "display_name": "Python 3",
   "language": "python",
   "name": "python3"
  },
  "language_info": {
   "codemirror_mode": {
    "name": "ipython",
    "version": 3
   },
   "file_extension": ".py",
   "mimetype": "text/x-python",
   "name": "python",
   "nbconvert_exporter": "python",
   "pygments_lexer": "ipython3",
   "version": "3.7.9"
  }
 },
 "nbformat": 4,
 "nbformat_minor": 4
}
